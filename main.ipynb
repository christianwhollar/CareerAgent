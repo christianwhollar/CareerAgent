{
 "cells": [
  {
   "cell_type": "code",
   "execution_count": 36,
   "metadata": {},
   "outputs": [],
   "source": [
    "import requests\n",
    "from bs4 import BeautifulSoup \n",
    "import re"
   ]
  },
  {
   "cell_type": "code",
   "execution_count": 5,
   "metadata": {},
   "outputs": [
    {
     "data": {
      "text/plain": [
       "'https://www.careerbuilder.com/jobs?posted=1&radius=30&cb_apply=false&keywords=engineer&location=New+York%2C+NY&pay=20&emp=jtft%2Cjtfp&cb_veterans=false&cb_workhome=all'"
      ]
     },
     "execution_count": 5,
     "metadata": {},
     "output_type": "execute_result"
    }
   ],
   "source": [
    "# Monster\n",
    "\n",
    "def get_careerbuilder_url(posted='1', radius_tuple_index=2, cb_apply='false', keywords='engineer', location_city='', location_state='', pay='60', emp_tuple_index=0, cb_veterans='false', cb_workhome_tuple_index=0):\n",
    "    # Base URL for CareerBuilder job search\n",
    "    base_url = 'https://www.careerbuilder.com/jobs?'\n",
    "\n",
    "    # Set of all valid U.S. state abbreviations\n",
    "    valid_states = {'AL', 'AK', 'AZ', 'AR', 'CA', 'CO', 'CT', 'DE', 'FL', 'GA', \n",
    "                    'HI', 'ID', 'IL', 'IN', 'IA', 'KS', 'KY', 'LA', 'ME', 'MD', \n",
    "                    'MA', 'MI', 'MN', 'MS', 'MO', 'MT', 'NE', 'NV', 'NH', 'NJ', \n",
    "                    'NM', 'NY', 'NC', 'ND', 'OH', 'OK', 'OR', 'PA', 'RI', 'SC', \n",
    "                    'SD', 'TN', 'TX', 'UT', 'VT', 'VA', 'WA', 'WV', 'WI', 'WY'}\n",
    "\n",
    "    # Validate state abbreviation\n",
    "    if location_state not in valid_states:\n",
    "        raise ValueError(f\"Invalid state: {location_state}. Please provide a valid state abbreviation (e.g., NY, PA, NC).\")\n",
    "\n",
    "    # Validate index ranges\n",
    "    if not (0 <= radius_tuple_index <= 3):\n",
    "        raise ValueError(\"radius_tuple_index must be between 0 and 3.\")\n",
    "    \n",
    "    if not (0 <= emp_tuple_index <= 5):\n",
    "        raise ValueError(\"emp_tuple_index must be between 0 and 5.\")\n",
    "    \n",
    "    if not (0 <= cb_workhome_tuple_index <= 3):\n",
    "        raise ValueError(\"cb_workhome_tuple_index must be between 0 and 3.\")\n",
    "\n",
    "    # Radius options (miles)\n",
    "    radius_tuple = ('5', '10', '30', '50')\n",
    "    radius = radius_tuple[radius_tuple_index]\n",
    "\n",
    "    # Format location\n",
    "    location = f'{location_city.replace(\" \", \"+\")}%2C+{location_state}'\n",
    "\n",
    "    # Employment type options\n",
    "    emp_tuple = ('jtft%2Cjtfp', 'jtpt%2Cjtfp', 'jtct%2Cjtc2%2Cjtcc', 'jtch', 'jtse%2Cjttf%2Cjttp', 'jtfl')\n",
    "    emp = emp_tuple[emp_tuple_index]\n",
    "\n",
    "    # Work-from-home options\n",
    "    cb_workhome_tuple = ('all', 'onsite', 'remote', 'hybrid')\n",
    "    cb_workhome = cb_workhome_tuple[cb_workhome_tuple_index]\n",
    "\n",
    "    # Assemble dictionary of URL parameters\n",
    "    extension_dict = {\n",
    "        'posted': posted,\n",
    "        'radius': radius,\n",
    "        'cb_apply': cb_apply,\n",
    "        'keywords': keywords.replace(\" \", \"+\"),\n",
    "        'location': location,\n",
    "        'pay': pay,\n",
    "        'emp': emp,\n",
    "        'cb_veterans': cb_veterans,\n",
    "        'cb_workhome': cb_workhome\n",
    "    }\n",
    "\n",
    "    # Construct the final URL\n",
    "    url = base_url + '&'.join(f\"{key}={value}\" for key, value in extension_dict.items() if value)\n",
    "\n",
    "    return url\n",
    "\n",
    "# Inputs\n",
    "\n",
    "posted = '1' # days\n",
    "radius_tuple_index = 2\n",
    "cb_apply='false'\n",
    "keywords = 'engineer'\n",
    "location_city = 'New York'\n",
    "location_state = 'NY'\n",
    "pay = '60' # 10^3 USD\n",
    "emp_tuple_index = 0\n",
    "cb_veterans='false'\n",
    "cb_workhome_tuple_index = 0\n",
    "\n",
    "get_careerbuilder_url(posted=posted, radius_tuple_index=radius_tuple_index, cb_apply=cb_apply, keywords=keywords, location_city=location_city, location_state=location_state, pay=pay, emp_tuple_index=emp_tuple_index, cb_veterans=cb_veterans, cb_workhome_tuple_index=cb_workhome_tuple_index)"
   ]
  },
  {
   "cell_type": "code",
   "execution_count": 46,
   "metadata": {},
   "outputs": [
    {
     "name": "stdout",
     "output_type": "stream",
     "text": [
      "https://www.ziprecruiter.com/jobs-search?form=jobs-landing&search=engineer&location=New+York%2C+NY&radius=5&days=30&refine_by_salary=100000&refine_by_employment=employment_type%3Aall\n"
     ]
    }
   ],
   "source": [
    "def get_url(search_value='', location_city='', location_state='', company='', refine_by_location_index=0, radius='', days='', refine_by_salary='', refine_by_employment_index=0):\n",
    "    base_url = 'https://www.ziprecruiter.com/jobs-search?form=jobs-landing&'\n",
    "\n",
    "    # Error \n",
    "    valid_states = {'AL', 'AK', 'AZ', 'AR', 'CA', 'CO', 'CT', 'DE', 'FL', 'GA', \n",
    "                        'HI', 'ID', 'IL', 'IN', 'IA', 'KS', 'KY', 'LA', 'ME', 'MD', \n",
    "                        'MA', 'MI', 'MN', 'MS', 'MO', 'MT', 'NE', 'NV', 'NH', 'NJ', \n",
    "                        'NM', 'NY', 'NC', 'ND', 'OH', 'OK', 'OR', 'PA', 'RI', 'SC', \n",
    "                        'SD', 'TN', 'TX', 'UT', 'VT', 'VA', 'WA', 'WV', 'WI', 'WY'}\n",
    "    \n",
    "    if location_state not in valid_states:\n",
    "        raise ValueError(f\"Invalid state: {location_state}. Please provide a valid state abbreviation (e.g., NY, PA, NC).\")\n",
    "    \n",
    "    # Check if the provided indexes are within the valid range\n",
    "    if not (0 <= refine_by_location_index <= 2):\n",
    "        raise ValueError(\"refine_by_location_index must be 0, 1, or 2.\")\n",
    "    \n",
    "    if not (0 <= refine_by_employment_index <= 2):\n",
    "        raise ValueError(\"refine_by_employment_index must be 0, 1, or 2.\")\n",
    "\n",
    "    search_value = search_value.replace(\" \", \"+\")\n",
    "\n",
    "    # Encode the location to handle spaces and commas\n",
    "    location = f'{location_city.replace(\" \", \"+\")}%2C+{location_state}'\n",
    "\n",
    "    # Define location and employment type options\n",
    "    refine_by_location_type_tuple = ('', 'no_remote', 'only_remote')\n",
    "    refine_by_employment_tuple = tuple('employment_type%3A' + item for item in ('all', 'full_time', 'work_from_home'))\n",
    "\n",
    "    # Select options based on provided indexes\n",
    "    refine_by_location_type = refine_by_location_type_tuple[refine_by_location_index]\n",
    "    refine_by_employment = refine_by_employment_tuple[refine_by_employment_index]\n",
    "\n",
    "    # Build the extension dictionary\n",
    "    extension_dict = {\n",
    "        'search': search_value,\n",
    "        'location': location,\n",
    "        'company': company,\n",
    "        'refine_by_location_type': refine_by_location_type,\n",
    "        'radius': radius,\n",
    "        'days': days,\n",
    "        'refine_by_salary': refine_by_salary,\n",
    "        'refine_by_employment': refine_by_employment\n",
    "    }\n",
    "\n",
    "    # Construct the URL with parameters\n",
    "    url = base_url + '&'.join(f\"{key}={value}\" for key, value in extension_dict.items() if value)\n",
    "\n",
    "    return url\n",
    "\n",
    "# Input variables\n",
    "search_value = 'engineer'\n",
    "location_city = 'New York'\n",
    "location_state = 'NY'\n",
    "company = ''\n",
    "radius = '5'  # 5 miles\n",
    "days = '30'  # jobs posted in the last x days\n",
    "refine_by_salary = '100000'  # salary in USD\n",
    "\n",
    "# Calling the function with the provided inputs\n",
    "url = get_url(search_value, location_city, location_state, company, 0, radius, days, refine_by_salary, 0)\n",
    "print(url)\n"
   ]
  },
  {
   "cell_type": "code",
   "execution_count": 11,
   "metadata": {},
   "outputs": [
    {
     "name": "stdout",
     "output_type": "stream",
     "text": [
      "<html lang=\"en\" style=\"overflow: hidden; position: fixed; height: 100%; width: 100%;\"><head>\n",
      "    <meta charset=\"utf-8\">\n",
      "    <meta http-equiv=\"X-UA-Compatible\" content=\"IE=edge\">\n",
      "    <meta http-equiv=\"Content-Type\" content=\"text/html; charset=utf-8\">\n",
      "    <title>38,521 Engineer Jobs (NOW HIRING) in New York, NY - ZipRecruiter</title>\n",
      "    <meta name=\"description\" content=\"Browse 38,521 NEW YORK, NY ENGINEER job listings hiring now from companies with openings. Find your next job opportunity near you &amp; 1-Click Apply!\">\n",
      "    <meta name=\"robots\" content=\"follow,noindex\">\n",
      "    <link rel=\"canonical\" href=\"https://www.ziprecruiter.com/Jobs/Engineer/-in-New-York,NY\">\n",
      "    <link rel=\"manifest\" href=\"/manifest.json\">\n",
      "\n",
      "    \n",
      "\n",
      "    <meta name=\"viewport\" content=\"width=device-width, initial-scale=1, shrink-to-fit=no\">\n",
      "    <meta name=\"apple-mobile-web-app-capable\" content=\"yes\">\n",
      "    <meta name=\"apple-mobile-web-app-status-bar-style\" content=\"black\">\n",
      "    <meta name=\"apple-mobile-web-app-title\" content=\"\n"
     ]
    }
   ],
   "source": [
    "import undetected_chromedriver as uc\n",
    "\n",
    "options = uc.ChromeOptions() \n",
    "options.headless = False\n",
    "\n",
    "driver = uc.Chrome(use_subprocess=True, options=options) \n",
    "\n",
    "\n",
    "search_value = 'engineer'\n",
    "location_city = 'New York'\n",
    "location_state = 'NY'\n",
    "location = f'{location_city.replace(\" \", \"+\")}%2C+{location_state}'\n",
    "\n",
    "company = ''\n",
    "refine_by_location_type_tuple = ('', 'no_remote', 'only_remote')\n",
    "refine_by_location_type = refine_by_location_type_tuple[0]\n",
    "\n",
    "radius = '5' # 5 miles\n",
    "\n",
    "extension_dict = {\n",
    "    'search': search_value,\n",
    "    'location': location,\n",
    "    'company': company,\n",
    "\n",
    "}\n",
    "\n",
    "url = f'https://www.ziprecruiter.com/jobs-search?form=jobs-landing&search={search_value}&location={location}'\n",
    "\n",
    "try:\n",
    "    driver.get(url)\n",
    "    html_content = driver.page_source\n",
    "    driver.quit()\n",
    "    \n",
    "except Exception as e:\n",
    "    print(f\"An error occurred: {e}\")\n",
    "    driver.quit()"
   ]
  },
  {
   "cell_type": "code",
   "execution_count": 12,
   "metadata": {},
   "outputs": [],
   "source": [
    "with open(\"ziprecruiter.txt\", 'a') as file:\n",
    "    file.write(html_content)"
   ]
  },
  {
   "cell_type": "code",
   "execution_count": 15,
   "metadata": {},
   "outputs": [],
   "source": [
    "soup = BeautifulSoup(html_content, 'html.parser')"
   ]
  },
  {
   "cell_type": "code",
   "execution_count": 21,
   "metadata": {},
   "outputs": [],
   "source": [
    "# Empty list to hold job titles and links\n",
    "job_listings = []\n",
    "\n",
    "# Find all article elements, assuming each job posting is within an article tag\n",
    "articles = soup.find_all('article', limit=20)  # Limit the number of articles processed to 10\n",
    "\n",
    "for article in articles:\n",
    "    # Find the h2 tag which contains the job title and link\n",
    "    h2_tag = article.find('h2')\n",
    "    if h2_tag:\n",
    "        # Extract the job title\n",
    "        job_title = h2_tag.get_text(strip=True)\n",
    "        \n",
    "        # Find the anchor tag within the h2 tag to extract the job link\n",
    "        link_tag = h2_tag.find('a')\n",
    "        if link_tag and link_tag.has_attr('href'):\n",
    "            job_link = link_tag['href']\n",
    "            # Check if link is relative and prepend base URL if needed\n",
    "            if job_link.startswith('/'):\n",
    "                job_link = f\"https://www.ziprecruiter.com{job_link}\"\n",
    "            job_listings.append((job_title, job_link))\n",
    "    \n",
    "    # Break out of the loop if we have already added 10 job listings\n",
    "#     if len(job_listings) == 10:\n",
    "#         break\n",
    "\n",
    "# Print job titles and links\n",
    "for title, link in job_listings:\n",
    "    print(f\"Job Title: {title}\\nJob Link: {link}\\n\")"
   ]
  },
  {
   "cell_type": "code",
   "execution_count": 28,
   "metadata": {},
   "outputs": [],
   "source": [
    "job_url = job_listings[0][1]"
   ]
  },
  {
   "cell_type": "code",
   "execution_count": 29,
   "metadata": {},
   "outputs": [],
   "source": [
    "driver.get(job_url)\n",
    "html_content = driver.page_source"
   ]
  },
  {
   "cell_type": "code",
   "execution_count": 31,
   "metadata": {},
   "outputs": [],
   "source": [
    "with open(\"ziprecruiter2.txt\", 'a') as file:\n",
    "    file.write(html_content)"
   ]
  },
  {
   "cell_type": "code",
   "execution_count": 33,
   "metadata": {},
   "outputs": [],
   "source": [
    "soup = BeautifulSoup(html_content, 'html.parser')"
   ]
  },
  {
   "cell_type": "code",
   "execution_count": 34,
   "metadata": {},
   "outputs": [
    {
     "data": {
      "text/plain": [
       "<div class=\"job_description\">\n",
       "<div><div><div><p>We offer a hybrid work environment. Most US-based positions can also<strong> </strong>be<strong> </strong>performed remotely (any exceptions will be noted in the Minimum Qualifications below.)</p></div><p><strong>Our Mission:</strong> </p><p>To actively connect people to their next great opportunity. </p><p><strong>Who We Are: </strong></p><p>ZipRecruiter is a leading online employment marketplace. Powered by AI-driven intelligent matching technology, the company actively connects job seekers with millions of businesses of all sizes through innovative mobile app, web, and email services, as well as partnerships with the best job sites on the web. ZipRecruiter has the #1 rated job search app on iOS &amp; Android. </p><p><strong>Summary</strong>:</p><p>As a BI Engineer II, you will redefine data consumption at ZipRecruiter. You will work cross functionally with Decision Science, Product, and Engineering teams to change the way we use data across the company internally and externally. You will work with top notch technologies like Spark, Kubernetes, and Databricks that process billions of records every day. </p><p><strong>Key focuses:</strong></p><ul><li>Responsible for Implementing new technologies and data infrastructures.</li><li>Taking business questions and designing the required data sets</li><li>Collaborating with Engineering on data modeling and design best practices</li><li>Implementing the data warehouse, including analysis, modeling, and developing the solution </li><li>Work cross functionally with analytics to implement new data technologies</li></ul><p><strong>Minimum Requirements:</strong></p><ul><li>2+ years of experience working as a BI Developer or a similar role</li><li>Advanced proficiency in SQL skills &amp; data modeling </li><li>Excellent understanding of data warehouse architecture and methodology</li><li>Experience working with CI/CD and Git</li><li>Experience with databases such as Redshift, PostgreSQL, etc. </li></ul><p><strong>Preferred Qualifications:</strong></p><ul><li>Experience with Big Data environments such as Data Lake and Delta Lake</li><li>Proficiency with Spark (Pyspark or Scala)</li></ul><p>The US base salary range for this full-time position is $117,500 - $155,000. Our salary ranges are determined by role, level, and location, and the range displayed on each job posting reflects the minimum and maximum target for new hire salaries for the position across all US locations. Within the range, individual pay is determined by work location, role-related knowledge and skills, depth of experience, relevant education or training, and additional role-related considerations.</p><p>Depending on the position offered, equity, bonuses, commission, or other forms of compensation may also be provided as part of a total compensation package, in addition to a full range of medical, financial, and other benefits.</p><p><br/><br/></p><div><p>ZipRecruiter is proud to be an equal opportunity employer and provides equal employment opportunities (EEO) to all employees and applicants without regard to race, color, religion, sex, national origin, age, disability, veteran status, sexual orientation, gender identity or genetics.</p><p><strong>Privacy Notice: </strong>For information about ZipRecruiter's collection and processing of job applicant personal data for this job, please see our Privacy Notice at: https://www.ziprecruiter.com/careers/job-applicant-privacy-notice</p></div></div></div>\n",
       "</div>"
      ]
     },
     "execution_count": 34,
     "metadata": {},
     "output_type": "execute_result"
    }
   ],
   "source": [
    "job_description_div = soup.find('div', class_='job_description')\n",
    "job_description_div"
   ]
  },
  {
   "cell_type": "code",
   "execution_count": 40,
   "metadata": {},
   "outputs": [],
   "source": [
    "job_description_div = soup.find('div', class_='job_description')\n",
    "job_description_text = ' '.join(job_description_div.get_text().split())\n",
    "job_description_text = job_description_text.replace('&nbsp;', ' ')\n",
    "job_description_text = re.sub(r'\\s+', ' ', job_description_text)\n",
    "\n",
    "with open('test.txt', 'a') as file:\n",
    "    file.write(job_description_text)"
   ]
  },
  {
   "cell_type": "code",
   "execution_count": null,
   "metadata": {},
   "outputs": [],
   "source": []
  }
 ],
 "metadata": {
  "kernelspec": {
   "display_name": "base",
   "language": "python",
   "name": "python3"
  },
  "language_info": {
   "codemirror_mode": {
    "name": "ipython",
    "version": 3
   },
   "file_extension": ".py",
   "mimetype": "text/x-python",
   "name": "python",
   "nbconvert_exporter": "python",
   "pygments_lexer": "ipython3",
   "version": "3.9.12"
  }
 },
 "nbformat": 4,
 "nbformat_minor": 2
}
